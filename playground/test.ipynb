{
 "cells": [
  {
   "cell_type": "markdown",
   "metadata": {},
   "source": [
    "# PostParse Testing Notebook\n",
    "\n",
    "This notebook demonstrates how to use the PostParse package to extract and store social media content."
   ]
  },
  {
   "cell_type": "markdown",
   "metadata": {},
   "source": [
    "## Setup\n",
    "\n",
    "First, let's install the package in development mode:"
   ]
  },
  {
   "cell_type": "code",
   "execution_count": 1,
   "metadata": {},
   "outputs": [
    {
     "name": "stdout",
     "output_type": "stream",
     "text": [
      "New CWD is: i:\\Coding\\00_Projects\\00_packages\\postparse\n"
     ]
    }
   ],
   "source": [
    "import os\n",
    "from typing import Optional\n",
    "\n",
    "def set_project_root_dir(project_root_name: str, cwd: Optional[str] = None):\n",
    "    \"\"\"Set the working directory to the project root directory, based on the name of the project root directory.\n",
    "\n",
    "    Args:\n",
    "        project_root_name (str): The name of the project root directory.\n",
    "        cwd (str, optional): The current working directory. Defaults to None.\n",
    "\n",
    "    Raises:\n",
    "        ValueError: If the project root directory is not found in the directory hierarchy.\n",
    "\n",
    "    Returns:\n",
    "        None\n",
    "    \"\"\"\n",
    "    # If no current working directory is provided, use the current working directory\n",
    "    if cwd is None:\n",
    "        cwd = os.getcwd()\n",
    "\n",
    "    # Split the current working directory into its components\n",
    "    cwd_components = cwd.split(os.sep)\n",
    "\n",
    "    # Find the index of the first occurrence of the project root directory in the list of components\n",
    "    try:\n",
    "        root_index = cwd_components.index(project_root_name)\n",
    "    except ValueError:\n",
    "        raise ValueError(f\"Project root directory '{project_root_name}' not found in directory hierarchy.\")\n",
    "\n",
    "    # Use the root index to get the path of the project root directory\n",
    "    root_dir = os.sep.join(cwd_components[:root_index+1])\n",
    "\n",
    "    # Change the working directory to the project root directory\n",
    "    os.chdir(root_dir)\n",
    "\n",
    "    # Print new CWD\n",
    "    print('New CWD is: ' + os.getcwd())\n",
    "\n",
    "set_project_root_dir('postparse')"
   ]
  },
  {
   "cell_type": "code",
   "execution_count": 3,
   "metadata": {},
   "outputs": [
    {
     "name": "stdout",
     "output_type": "stream",
     "text": [
      "Obtaining file:///I:/Coding/00_Projects/00_packages/postparse\n",
      "  Installing build dependencies: started\n",
      "  Installing build dependencies: finished with status 'done'\n",
      "  Checking if build backend supports build_editable: started\n",
      "  Checking if build backend supports build_editable: finished with status 'done'\n",
      "  Getting requirements to build editable: started\n",
      "  Getting requirements to build editable: finished with status 'done'\n",
      "  Preparing editable metadata (pyproject.toml): started\n",
      "  Preparing editable metadata (pyproject.toml): finished with status 'done'\n",
      "Requirement already satisfied: xgboost in i:\\coding\\00_projects\\00_packages\\postparse\\.venv\\lib\\site-packages (from postparse==0.1.0) (2.1.2)\n",
      "Requirement already satisfied: matplotlib in i:\\coding\\00_projects\\00_packages\\postparse\\.venv\\lib\\site-packages (from postparse==0.1.0) (3.9.2)\n",
      "Requirement already satisfied: numpy in i:\\coding\\00_projects\\00_packages\\postparse\\.venv\\lib\\site-packages (from postparse==0.1.0) (2.1.3)\n",
      "Requirement already satisfied: pandas in i:\\coding\\00_projects\\00_packages\\postparse\\.venv\\lib\\site-packages (from postparse==0.1.0) (2.2.3)\n",
      "Requirement already satisfied: optuna in i:\\coding\\00_projects\\00_packages\\postparse\\.venv\\lib\\site-packages (from postparse==0.1.0) (4.0.0)\n",
      "Requirement already satisfied: optuna-integration in i:\\coding\\00_projects\\00_packages\\postparse\\.venv\\lib\\site-packages (from postparse==0.1.0) (4.0.0)\n",
      "Requirement already satisfied: pytest in i:\\coding\\00_projects\\00_packages\\postparse\\.venv\\lib\\site-packages (from postparse==0.1.0) (8.3.3)\n",
      "Requirement already satisfied: scikit-learn in i:\\coding\\00_projects\\00_packages\\postparse\\.venv\\lib\\site-packages (from postparse==0.1.0) (1.5.2)\n",
      "Requirement already satisfied: scipy in i:\\coding\\00_projects\\00_packages\\postparse\\.venv\\lib\\site-packages (from postparse==0.1.0) (1.14.1)\n",
      "Requirement already satisfied: toml in i:\\coding\\00_projects\\00_packages\\postparse\\.venv\\lib\\site-packages (from postparse==0.1.0) (0.10.2)\n",
      "Requirement already satisfied: tqdm in i:\\coding\\00_projects\\00_packages\\postparse\\.venv\\lib\\site-packages (from postparse==0.1.0) (4.67.0)\n",
      "Requirement already satisfied: mkdocs in i:\\coding\\00_projects\\00_packages\\postparse\\.venv\\lib\\site-packages (from postparse==0.1.0) (1.6.1)\n",
      "Requirement already satisfied: ipywidgets in i:\\coding\\00_projects\\00_packages\\postparse\\.venv\\lib\\site-packages (from postparse==0.1.0) (8.1.5)\n",
      "Requirement already satisfied: python-dotenv in i:\\coding\\00_projects\\00_packages\\postparse\\.venv\\lib\\site-packages (from postparse==0.1.0) (1.0.1)\n",
      "Requirement already satisfied: comm>=0.1.3 in i:\\coding\\00_projects\\00_packages\\postparse\\.venv\\lib\\site-packages (from ipywidgets->postparse==0.1.0) (0.2.2)\n",
      "Requirement already satisfied: ipython>=6.1.0 in i:\\coding\\00_projects\\00_packages\\postparse\\.venv\\lib\\site-packages (from ipywidgets->postparse==0.1.0) (8.29.0)\n",
      "Requirement already satisfied: traitlets>=4.3.1 in i:\\coding\\00_projects\\00_packages\\postparse\\.venv\\lib\\site-packages (from ipywidgets->postparse==0.1.0) (5.14.3)\n",
      "Requirement already satisfied: widgetsnbextension~=4.0.12 in i:\\coding\\00_projects\\00_packages\\postparse\\.venv\\lib\\site-packages (from ipywidgets->postparse==0.1.0) (4.0.13)\n",
      "Requirement already satisfied: jupyterlab-widgets~=3.0.12 in i:\\coding\\00_projects\\00_packages\\postparse\\.venv\\lib\\site-packages (from ipywidgets->postparse==0.1.0) (3.0.13)\n",
      "Requirement already satisfied: contourpy>=1.0.1 in i:\\coding\\00_projects\\00_packages\\postparse\\.venv\\lib\\site-packages (from matplotlib->postparse==0.1.0) (1.3.0)\n",
      "Requirement already satisfied: cycler>=0.10 in i:\\coding\\00_projects\\00_packages\\postparse\\.venv\\lib\\site-packages (from matplotlib->postparse==0.1.0) (0.12.1)\n",
      "Requirement already satisfied: fonttools>=4.22.0 in i:\\coding\\00_projects\\00_packages\\postparse\\.venv\\lib\\site-packages (from matplotlib->postparse==0.1.0) (4.54.1)\n",
      "Requirement already satisfied: kiwisolver>=1.3.1 in i:\\coding\\00_projects\\00_packages\\postparse\\.venv\\lib\\site-packages (from matplotlib->postparse==0.1.0) (1.4.7)\n",
      "Requirement already satisfied: packaging>=20.0 in i:\\coding\\00_projects\\00_packages\\postparse\\.venv\\lib\\site-packages (from matplotlib->postparse==0.1.0) (24.2)\n",
      "Requirement already satisfied: pillow>=8 in i:\\coding\\00_projects\\00_packages\\postparse\\.venv\\lib\\site-packages (from matplotlib->postparse==0.1.0) (11.0.0)\n",
      "Requirement already satisfied: pyparsing>=2.3.1 in i:\\coding\\00_projects\\00_packages\\postparse\\.venv\\lib\\site-packages (from matplotlib->postparse==0.1.0) (3.2.0)\n",
      "Requirement already satisfied: python-dateutil>=2.7 in i:\\coding\\00_projects\\00_packages\\postparse\\.venv\\lib\\site-packages (from matplotlib->postparse==0.1.0) (2.9.0.post0)\n",
      "Requirement already satisfied: click>=7.0 in i:\\coding\\00_projects\\00_packages\\postparse\\.venv\\lib\\site-packages (from mkdocs->postparse==0.1.0) (8.1.7)\n",
      "Requirement already satisfied: colorama>=0.4 in i:\\coding\\00_projects\\00_packages\\postparse\\.venv\\lib\\site-packages (from mkdocs->postparse==0.1.0) (0.4.6)\n",
      "Requirement already satisfied: ghp-import>=1.0 in i:\\coding\\00_projects\\00_packages\\postparse\\.venv\\lib\\site-packages (from mkdocs->postparse==0.1.0) (2.1.0)\n",
      "Requirement already satisfied: jinja2>=2.11.1 in i:\\coding\\00_projects\\00_packages\\postparse\\.venv\\lib\\site-packages (from mkdocs->postparse==0.1.0) (3.1.4)\n",
      "Requirement already satisfied: markdown>=3.3.6 in i:\\coding\\00_projects\\00_packages\\postparse\\.venv\\lib\\site-packages (from mkdocs->postparse==0.1.0) (3.7)\n",
      "Requirement already satisfied: markupsafe>=2.0.1 in i:\\coding\\00_projects\\00_packages\\postparse\\.venv\\lib\\site-packages (from mkdocs->postparse==0.1.0) (3.0.2)\n",
      "Requirement already satisfied: mergedeep>=1.3.4 in i:\\coding\\00_projects\\00_packages\\postparse\\.venv\\lib\\site-packages (from mkdocs->postparse==0.1.0) (1.3.4)\n",
      "Requirement already satisfied: mkdocs-get-deps>=0.2.0 in i:\\coding\\00_projects\\00_packages\\postparse\\.venv\\lib\\site-packages (from mkdocs->postparse==0.1.0) (0.2.0)\n",
      "Requirement already satisfied: pathspec>=0.11.1 in i:\\coding\\00_projects\\00_packages\\postparse\\.venv\\lib\\site-packages (from mkdocs->postparse==0.1.0) (0.12.1)\n",
      "Requirement already satisfied: pyyaml-env-tag>=0.1 in i:\\coding\\00_projects\\00_packages\\postparse\\.venv\\lib\\site-packages (from mkdocs->postparse==0.1.0) (0.1)\n",
      "Requirement already satisfied: pyyaml>=5.1 in i:\\coding\\00_projects\\00_packages\\postparse\\.venv\\lib\\site-packages (from mkdocs->postparse==0.1.0) (6.0.2)\n",
      "Requirement already satisfied: watchdog>=2.0 in i:\\coding\\00_projects\\00_packages\\postparse\\.venv\\lib\\site-packages (from mkdocs->postparse==0.1.0) (6.0.0)\n",
      "Requirement already satisfied: alembic>=1.5.0 in i:\\coding\\00_projects\\00_packages\\postparse\\.venv\\lib\\site-packages (from optuna->postparse==0.1.0) (1.14.0)\n",
      "Requirement already satisfied: colorlog in i:\\coding\\00_projects\\00_packages\\postparse\\.venv\\lib\\site-packages (from optuna->postparse==0.1.0) (6.9.0)\n",
      "Requirement already satisfied: sqlalchemy>=1.3.0 in i:\\coding\\00_projects\\00_packages\\postparse\\.venv\\lib\\site-packages (from optuna->postparse==0.1.0) (2.0.36)\n",
      "Requirement already satisfied: pytz>=2020.1 in i:\\coding\\00_projects\\00_packages\\postparse\\.venv\\lib\\site-packages (from pandas->postparse==0.1.0) (2024.2)\n",
      "Requirement already satisfied: tzdata>=2022.7 in i:\\coding\\00_projects\\00_packages\\postparse\\.venv\\lib\\site-packages (from pandas->postparse==0.1.0) (2024.2)\n",
      "Requirement already satisfied: iniconfig in i:\\coding\\00_projects\\00_packages\\postparse\\.venv\\lib\\site-packages (from pytest->postparse==0.1.0) (2.0.0)\n",
      "Requirement already satisfied: pluggy<2,>=1.5 in i:\\coding\\00_projects\\00_packages\\postparse\\.venv\\lib\\site-packages (from pytest->postparse==0.1.0) (1.5.0)\n",
      "Requirement already satisfied: joblib>=1.2.0 in i:\\coding\\00_projects\\00_packages\\postparse\\.venv\\lib\\site-packages (from scikit-learn->postparse==0.1.0) (1.4.2)\n",
      "Requirement already satisfied: threadpoolctl>=3.1.0 in i:\\coding\\00_projects\\00_packages\\postparse\\.venv\\lib\\site-packages (from scikit-learn->postparse==0.1.0) (3.5.0)\n",
      "Requirement already satisfied: Mako in i:\\coding\\00_projects\\00_packages\\postparse\\.venv\\lib\\site-packages (from alembic>=1.5.0->optuna->postparse==0.1.0) (1.3.6)\n",
      "Requirement already satisfied: typing-extensions>=4 in i:\\coding\\00_projects\\00_packages\\postparse\\.venv\\lib\\site-packages (from alembic>=1.5.0->optuna->postparse==0.1.0) (4.12.2)\n",
      "Requirement already satisfied: decorator in i:\\coding\\00_projects\\00_packages\\postparse\\.venv\\lib\\site-packages (from ipython>=6.1.0->ipywidgets->postparse==0.1.0) (5.1.1)\n",
      "Requirement already satisfied: jedi>=0.16 in i:\\coding\\00_projects\\00_packages\\postparse\\.venv\\lib\\site-packages (from ipython>=6.1.0->ipywidgets->postparse==0.1.0) (0.19.1)\n",
      "Requirement already satisfied: matplotlib-inline in i:\\coding\\00_projects\\00_packages\\postparse\\.venv\\lib\\site-packages (from ipython>=6.1.0->ipywidgets->postparse==0.1.0) (0.1.7)\n",
      "Requirement already satisfied: prompt-toolkit<3.1.0,>=3.0.41 in i:\\coding\\00_projects\\00_packages\\postparse\\.venv\\lib\\site-packages (from ipython>=6.1.0->ipywidgets->postparse==0.1.0) (3.0.48)\n",
      "Requirement already satisfied: pygments>=2.4.0 in i:\\coding\\00_projects\\00_packages\\postparse\\.venv\\lib\\site-packages (from ipython>=6.1.0->ipywidgets->postparse==0.1.0) (2.18.0)\n",
      "Requirement already satisfied: stack-data in i:\\coding\\00_projects\\00_packages\\postparse\\.venv\\lib\\site-packages (from ipython>=6.1.0->ipywidgets->postparse==0.1.0) (0.6.3)\n",
      "Requirement already satisfied: platformdirs>=2.2.0 in i:\\coding\\00_projects\\00_packages\\postparse\\.venv\\lib\\site-packages (from mkdocs-get-deps>=0.2.0->mkdocs->postparse==0.1.0) (4.3.6)\n",
      "Requirement already satisfied: six>=1.5 in i:\\coding\\00_projects\\00_packages\\postparse\\.venv\\lib\\site-packages (from python-dateutil>=2.7->matplotlib->postparse==0.1.0) (1.16.0)\n",
      "Requirement already satisfied: greenlet!=0.4.17 in i:\\coding\\00_projects\\00_packages\\postparse\\.venv\\lib\\site-packages (from sqlalchemy>=1.3.0->optuna->postparse==0.1.0) (3.1.1)\n",
      "Requirement already satisfied: parso<0.9.0,>=0.8.3 in i:\\coding\\00_projects\\00_packages\\postparse\\.venv\\lib\\site-packages (from jedi>=0.16->ipython>=6.1.0->ipywidgets->postparse==0.1.0) (0.8.4)\n",
      "Requirement already satisfied: wcwidth in i:\\coding\\00_projects\\00_packages\\postparse\\.venv\\lib\\site-packages (from prompt-toolkit<3.1.0,>=3.0.41->ipython>=6.1.0->ipywidgets->postparse==0.1.0) (0.2.13)\n",
      "Requirement already satisfied: executing>=1.2.0 in i:\\coding\\00_projects\\00_packages\\postparse\\.venv\\lib\\site-packages (from stack-data->ipython>=6.1.0->ipywidgets->postparse==0.1.0) (2.1.0)\n",
      "Requirement already satisfied: asttokens>=2.1.0 in i:\\coding\\00_projects\\00_packages\\postparse\\.venv\\lib\\site-packages (from stack-data->ipython>=6.1.0->ipywidgets->postparse==0.1.0) (2.4.1)\n",
      "Requirement already satisfied: pure-eval in i:\\coding\\00_projects\\00_packages\\postparse\\.venv\\lib\\site-packages (from stack-data->ipython>=6.1.0->ipywidgets->postparse==0.1.0) (0.2.3)\n",
      "Building wheels for collected packages: postparse\n",
      "  Building editable for postparse (pyproject.toml): started\n",
      "  Building editable for postparse (pyproject.toml): finished with status 'done'\n",
      "  Created wheel for postparse: filename=postparse-0.1.0-0.editable-py3-none-any.whl size=3905 sha256=e5374e5a57892ee4a59852271f9fcda0458b4e7c050036e7809c4bd66ca22f09\n",
      "  Stored in directory: C:\\Users\\pachl\\AppData\\Local\\Temp\\pip-ephem-wheel-cache-7_g96gj_\\wheels\\e9\\43\\f2\\a052e44297be3ff85a268e76def228d3ae6170cb1c029914df\n",
      "Successfully built postparse\n",
      "Installing collected packages: postparse\n",
      "  Attempting uninstall: postparse\n",
      "    Found existing installation: postparse 0.1.0\n",
      "    Uninstalling postparse-0.1.0:\n",
      "      Successfully uninstalled postparse-0.1.0\n",
      "Successfully installed postparse-0.1.0\n"
     ]
    },
    {
     "name": "stderr",
     "output_type": "stream",
     "text": [
      "\n",
      "[notice] A new release of pip is available: 24.2 -> 25.1.1\n",
      "[notice] To update, run: python.exe -m pip install --upgrade pip\n"
     ]
    }
   ],
   "source": [
    "!pip install -e ."
   ]
  },
  {
   "cell_type": "markdown",
   "metadata": {},
   "source": [
    "## Import Required Modules"
   ]
  },
  {
   "cell_type": "code",
   "execution_count": 2,
   "metadata": {},
   "outputs": [
    {
     "name": "stderr",
     "output_type": "stream",
     "text": [
      "INFO:telethon.crypto.libssl:Failed to load SSL library: <class 'OSError'> (no library called \"ssl\" found)\n",
      "INFO:telethon.crypto.aes:cryptg module not installed and libssl not found, falling back to (slower) Python encryption\n"
     ]
    },
    {
     "data": {
      "text/plain": [
       "True"
      ]
     },
     "execution_count": 2,
     "metadata": {},
     "output_type": "execute_result"
    }
   ],
   "source": [
    "import os\n",
    "from pathlib import Path\n",
    "from dotenv import load_dotenv\n",
    "\n",
    "# Import our package\n",
    "from postparse.data.database import SocialMediaDatabase\n",
    "from postparse.instagram.instagram_parser import InstaloaderParser\n",
    "from postparse.telegram.telegram_parser import save_telegram_messages\n",
    "\n",
    "%load_ext autoreload\n",
    "%autoreload 2\n",
    "\n",
    "\n",
    "# Load environment variables from .env file\n",
    "load_dotenv(dotenv_path='config/.env')"
   ]
  },
  {
   "cell_type": "markdown",
   "metadata": {},
   "source": [
    "\n",
    "\n",
    "\n",
    "\n",
    "\n",
    "\n",
    "\n",
    "\n",
    "\n",
    "\n",
    "\n",
    "\n",
    "\n",
    "\n",
    "\n",
    "\n",
    "\n",
    "\n",
    "\n",
    "\n",
    "\n",
    "\n",
    "\n",
    "\n",
    "\n",
    "\n",
    "\n",
    "\n",
    "\n",
    "\n",
    "\n",
    "\n",
    "\n",
    "\n",
    "\n",
    "\n",
    "\n",
    "\n",
    "\n",
    "\n",
    "\n",
    "\n",
    "\n",
    "\n",
    "\n",
    "\n",
    "## Setup Database\n",
    "\n",
    "Create a database instance in the playground directory:"
   ]
  },
  {
   "cell_type": "code",
   "execution_count": 3,
   "metadata": {},
   "outputs": [
    {
     "name": "stdout",
     "output_type": "stream",
     "text": [
      "Database created at: i:\\Coding\\00_Projects\\00_packages\\postparse\\data\\social_media.db\n"
     ]
    }
   ],
   "source": [
    "# Create database in playground directory\n",
    "db_path = Path(\"data/social_media.db\")\n",
    "db = SocialMediaDatabase(db_path)\n",
    "\n",
    "print(f\"Database created at: {db_path.absolute()}\")"
   ]
  },
  {
   "cell_type": "markdown",
   "metadata": {},
   "source": [
    "## Instagram Parser Test\n",
    "\n",
    "Test the Instagram parser with your credentials. Make sure to set these in your .env file:\n",
    "```\n",
    "INSTAGRAM_USERNAME=your_username\n",
    "INSTAGRAM_PASSWORD=your_password\n",
    "```"
   ]
  },
  {
   "cell_type": "code",
   "execution_count": 4,
   "metadata": {},
   "outputs": [
    {
     "name": "stderr",
     "output_type": "stream",
     "text": [
      "INFO:postparse.instagram.instagram_parser:Successfully loaded Instagram session from cache\n",
      "INFO:postparse.instagram.instagram_parser:Found 784 saved posts\n",
      "Fetching posts (delay: 8.9s): 100%|██████████| 784/784 [28:29<00:00,  2.18s/post, processed=189, skipped=595, mode=normal] \n",
      "INFO:postparse.instagram.instagram_parser:Normal fetch completed. Processed: 189, Skipped: 595, Total: 784\n",
      "INFO:postparse.instagram.instagram_parser:Found 189 posts to save\n",
      "Saving to database: 100%|██████████| 189/189 [00:03<00:00, 58.94post/s, new=189, updated=0, total=189]\n",
      "INFO:postparse.instagram.instagram_parser:Process completed. Saved: 189, Total new posts: 189\n"
     ]
    },
    {
     "name": "stdout",
     "output_type": "stream",
     "text": [
      "Saved 189 Instagram posts\n"
     ]
    }
   ],
   "source": [
    "# Get Instagram credentials from environment\n",
    "instagram_username = os.getenv(\"INSTAGRAM_USERNAME\")\n",
    "instagram_password = os.getenv(\"INSTAGRAM_PASSWORD\")\n",
    "\n",
    "if not instagram_username or not instagram_password:\n",
    "    print(\"Please set INSTAGRAM_USERNAME and INSTAGRAM_PASSWORD in .env file\")\n",
    "else:\n",
    "    # Initialize Instagram parser\n",
    "    parser = InstaloaderParser(\n",
    "        username=instagram_username,\n",
    "        password=instagram_password,\n",
    "        session_file=\"instagram_session\"  # Cache session for future use\n",
    "    )\n",
    "    \n",
    "    # Save posts with conservative limits\n",
    "    saved_count = parser.save_posts_to_db(\n",
    "        db=db,\n",
    "        limit=None,  # Start with just 10 posts\n",
    "        force_update=False  # Skip existing posts by default\n",
    "    )\n",
    "    \n",
    "    print(f\"Saved {saved_count} Instagram posts\")"
   ]
  },
  {
   "cell_type": "markdown",
   "metadata": {},
   "source": [
    "## Telegram Parser Test\n",
    "\n",
    "Test the Telegram parser with your API credentials. Make sure to set these in your .env file:\n",
    "```\n",
    "TELEGRAM_API_ID=your_api_id\n",
    "TELEGRAM_API_HASH=your_api_hash\n",
    "```"
   ]
  },
  {
   "cell_type": "code",
   "execution_count": 6,
   "metadata": {},
   "outputs": [
    {
     "name": "stderr",
     "output_type": "stream",
     "text": [
      "INFO:telethon.network.mtprotosender:Connecting to 149.154.167.51:443/TcpFull...\n",
      "INFO:telethon.network.mtprotosender:Connection to 149.154.167.51:443/TcpFull complete!\n"
     ]
    },
    {
     "name": "stdout",
     "output_type": "stream",
     "text": [
      "Found 4903 saved messages\n"
     ]
    },
    {
     "name": "stderr",
     "output_type": "stream",
     "text": [
      "Fetching messages (delay: 2.0s):   0%|          | 2/4903 [00:04<1:37:17,  1.19s/msg, processed=2, skipped=0, mode=normal]INFO:telethon.client.downloads:Starting direct file download in chunks of 131072 at 0, stride 131072\n",
      "Fetching messages (delay: 4.5s):   1%|          | 50/4903 [03:05<15:56:54, 11.83s/msg, processed=50, skipped=0, mode=normal]INFO:telethon.client.downloads:Starting direct file download in chunks of 131072 at 0, stride 131072\n",
      "Fetching messages (delay: 8.0s):   2%|▏         | 119/4903 [07:22<3:21:38,  2.53s/msg, processed=119, skipped=0, mode=normal] INFO:telethon.client.downloads:Starting direct file download in chunks of 131072 at 0, stride 131072\n",
      "Fetching messages (delay: 8.5s):   3%|▎         | 133/4903 [08:02<4:35:39,  3.47s/msg, processed=133, skipped=0, mode=normal]INFO:telethon.client.downloads:Starting direct file download in chunks of 131072 at 0, stride 131072\n",
      "Fetching messages (delay: 9.0s):   3%|▎         | 148/4903 [08:46<3:21:12,  2.54s/msg, processed=148, skipped=0, mode=normal]INFO:telethon.client.downloads:Starting direct file download in chunks of 131072 at 0, stride 131072\n",
      "Fetching messages (delay: 9.5s):   3%|▎         | 155/4903 [09:40<6:07:25,  4.64s/msg, processed=155, skipped=0, mode=normal] INFO:telethon.client.downloads:Starting direct file download in chunks of 131072 at 0, stride 131072\n",
      "Fetching messages (delay: 10.0s):   3%|▎         | 162/4903 [10:04<5:00:41,  3.81s/msg, processed=162, skipped=0, mode=normal]INFO:telethon.client.downloads:Starting direct file download in chunks of 131072 at 0, stride 131072\n",
      "Fetching messages (delay: 10.0s):   3%|▎         | 167/4903 [10:14<3:11:01,  2.42s/msg, processed=167, skipped=0, mode=normal]INFO:telethon.client.downloads:Starting direct file download in chunks of 131072 at 0, stride 131072\n",
      "Fetching messages (delay: 14.0s):   5%|▍         | 245/4903 [14:43<3:35:18,  2.77s/msg, processed=245, skipped=0, mode=normal] INFO:telethon.client.downloads:Starting direct file download in chunks of 131072 at 0, stride 131072\n",
      "Fetching messages (delay: 16.5s):   6%|▌         | 296/4903 [17:51<2:56:29,  2.30s/msg, processed=296, skipped=0, mode=normal] INFO:telethon.client.downloads:Starting direct file download in chunks of 131072 at 0, stride 131072\n",
      "Fetching messages (delay: 19.0s):   7%|▋         | 347/4903 [21:03<3:13:31,  2.55s/msg, processed=347, skipped=0, mode=normal] INFO:telethon.client.downloads:Starting direct file download in chunks of 131072 at 0, stride 131072\n",
      "Fetching messages (delay: 19.0s):   7%|▋         | 348/4903 [21:03<3:23:24,  2.68s/msg, processed=348, skipped=0, mode=normal]INFO:telethon.client.downloads:Starting direct file download in chunks of 131072 at 0, stride 131072\n",
      "Fetching messages (delay: 20.5s):   8%|▊         | 375/4903 [23:04<3:41:52,  2.94s/msg, processed=375, skipped=0, mode=normal] INFO:telethon.client.downloads:Starting direct file download in chunks of 131072 at 0, stride 131072\n",
      "Fetching messages (delay: 21.5s):   8%|▊         | 394/4903 [24:05<3:59:41,  3.19s/msg, processed=394, skipped=0, mode=normal]INFO:telethon.client.downloads:Starting direct file download in chunks of 131072 at 0, stride 131072\n",
      "Fetching messages (delay: 21.5s):   8%|▊         | 395/4903 [24:06<3:47:10,  3.02s/msg, processed=395, skipped=0, mode=normal]INFO:telethon.client.downloads:Starting direct file download in chunks of 131072 at 0, stride 131072\n",
      "Fetching messages (delay: 23.0s):   9%|▊         | 420/4903 [25:55<6:45:15,  5.42s/msg, processed=420, skipped=0, mode=normal] INFO:telethon.client.downloads:Starting direct file download in chunks of 131072 at 0, stride 131072\n",
      "Fetching messages (delay: 23.5s):   9%|▉         | 435/4903 [27:08<3:54:10,  3.14s/msg, processed=435, skipped=0, mode=normal] INFO:telethon.client.downloads:Starting direct file download in chunks of 131072 at 0, stride 131072\n",
      "Fetching messages (delay: 24.5s):   9%|▉         | 458/4903 [28:47<3:53:52,  3.16s/msg, processed=458, skipped=0, mode=normal] INFO:telethon.client.downloads:Starting direct file download in chunks of 131072 at 0, stride 131072\n",
      "Fetching messages (delay: 25.0s):   9%|▉         | 459/4903 [29:02<4:28:49,  3.63s/msg, processed=459, skipped=0, mode=normal]INFO:telethon.client.downloads:Starting direct file download in chunks of 131072 at 0, stride 131072\n",
      "Fetching messages (delay: 25.5s):  10%|▉         | 472/4903 [29:40<4:19:56,  3.52s/msg, processed=472, skipped=0, mode=normal]INFO:telethon.client.downloads:Starting direct file download in chunks of 131072 at 0, stride 131072\n",
      "Fetching messages (delay: 26.5s):  10%|█         | 491/4903 [30:41<7:21:53,  6.01s/msg, processed=491, skipped=0, mode=normal]INFO:telethon.client.downloads:Starting direct file download in chunks of 131072 at 0, stride 131072\n",
      "Fetching messages (delay: 26.5s):  10%|█         | 493/4903 [30:44<4:53:11,  3.99s/msg, processed=493, skipped=0, mode=normal]INFO:telethon.client.downloads:Starting direct file download in chunks of 131072 at 0, stride 131072\n",
      "Fetching messages (delay: 27.0s):  10%|█         | 501/4903 [31:39<14:37:35, 11.96s/msg, processed=501, skipped=0, mode=normal]INFO:telethon.client.downloads:Starting direct file download in chunks of 131072 at 0, stride 131072\n",
      "Fetching messages (delay: 27.0s):  10%|█         | 502/4903 [31:39<9:03:28,  7.41s/msg, processed=502, skipped=0, mode=normal] INFO:telethon.client.downloads:Starting direct file download in chunks of 131072 at 0, stride 131072\n",
      "Fetching messages (delay: 27.0s):  10%|█         | 505/4903 [31:48<5:24:36,  4.43s/msg, processed=505, skipped=0, mode=normal]INFO:telethon.client.downloads:Starting direct file download in chunks of 131072 at 0, stride 131072\n",
      "Fetching messages (delay: 27.0s):  10%|█         | 508/4903 [31:54<3:28:07,  2.84s/msg, processed=508, skipped=0, mode=normal]INFO:telethon.client.downloads:Starting direct file download in chunks of 131072 at 0, stride 131072\n",
      "Fetching messages (delay: 27.5s):  10%|█         | 509/4903 [32:24<8:22:31,  6.86s/msg, processed=509, skipped=0, mode=normal]INFO:telethon.client.downloads:Starting direct file download in chunks of 131072 at 0, stride 131072\n",
      "Fetching messages (delay: 27.5s):  10%|█         | 511/4903 [32:36<13:15:24, 10.87s/msg, processed=511, skipped=0, mode=normal]INFO:telethon.client.downloads:Starting direct file download in chunks of 131072 at 0, stride 131072\n",
      "Fetching messages (delay: 27.5s):  10%|█         | 513/4903 [32:39<8:27:22,  6.93s/msg, processed=513, skipped=0, mode=normal] INFO:telethon.client.downloads:Starting direct file download in chunks of 131072 at 0, stride 131072\n",
      "Fetching messages (delay: 27.5s):  10%|█         | 514/4903 [33:40<19:38:39, 16.11s/msg, processed=514, skipped=0, mode=normal]"
     ]
    },
    {
     "name": "stdout",
     "output_type": "stream",
     "text": [
      "Timeout downloading media for message 8709\n"
     ]
    },
    {
     "name": "stderr",
     "output_type": "stream",
     "text": [
      "Fetching messages (delay: 29.0s): 100%|██████████| 4903/4903 [35:17<00:00,  2.32msg/s, processed=541, skipped=4362, mode=normal] \n"
     ]
    },
    {
     "name": "stdout",
     "output_type": "stream",
     "text": [
      "Normal fetch completed. Processed: 541, Skipped: 4362, Total: 4903\n",
      "Found 541 messages to save\n"
     ]
    },
    {
     "name": "stderr",
     "output_type": "stream",
     "text": [
      "Saving to database: 100%|██████████| 541/541 [02:02<00:00,  4.42msg/s, new=541, updated=0, total=541]\n",
      "INFO:telethon.network.mtprotosender:Disconnecting from 149.154.167.51:443/TcpFull...\n",
      "INFO:telethon.network.mtprotosender:Disconnection from 149.154.167.51:443/TcpFull complete!\n"
     ]
    },
    {
     "name": "stdout",
     "output_type": "stream",
     "text": [
      "Process completed. Saved: 541, Total new messages: 541\n",
      "Saved 541 Telegram messages\n"
     ]
    }
   ],
   "source": [
    "# Get Telegram credentials from environment\n",
    "telegram_api_id = os.getenv(\"TELEGRAM_API_ID\")\n",
    "telegram_api_hash = os.getenv(\"TELEGRAM_API_HASH\")\n",
    "telegram_phone = os.getenv(\"TELEGRAM_PHONE\")\n",
    "\n",
    "if not telegram_api_id or not telegram_api_hash:\n",
    "    print(\"Please set TELEGRAM_API_ID and TELEGRAM_API_HASH in .env file\")\n",
    "else:\n",
    "    # Save messages with conservative limits\n",
    "    saved_count = save_telegram_messages(\n",
    "        api_id=telegram_api_id,\n",
    "        api_hash=telegram_api_hash,\n",
    "        phone=telegram_phone,\n",
    "        db_path=str(db_path),\n",
    "        cache_dir=\"data/cache\",\n",
    "        downloads_dir=\"data/downloads/telegram\",\n",
    "        session_file=\"telegram_session\",  # Cache session for future use\n",
    "        limit=None,  # Start with just 10 messages\n",
    "        max_requests_per_session=None,  # Conservative request limit\n",
    "        force_update=False # kip existing messages by default, if true Override existing messages\n",
    "    )\n",
    "    \n",
    "    print(f\"Saved {saved_count} Telegram messages\")"
   ]
  },
  {
   "cell_type": "markdown",
   "metadata": {},
   "source": [
    "\n",
    "\n",
    "\n",
    "\n",
    "\n",
    "\n",
    "\n",
    "\n",
    "\n",
    "\n",
    "\n",
    "\n",
    "\n",
    "\n",
    "\n",
    "\n",
    "\n",
    "\n",
    "\n",
    "\n",
    "\n",
    "\n",
    "\n",
    "\n",
    "\n",
    "\n",
    "\n",
    "\n",
    "\n",
    "## LLM Zeroshot Classifier"
   ]
  },
  {
   "cell_type": "code",
   "execution_count": 14,
   "metadata": {},
   "outputs": [
    {
     "name": "stderr",
     "output_type": "stream",
     "text": [
      "  0%|          | 0/1 [00:00<?, ?it/s]INFO:httpx:HTTP Request: POST http://192.168.188.92:11434/api/chat \"HTTP/1.1 200 OK\"\n",
      "100%|██████████| 1/1 [00:02<00:00,  2.05s/it]\n"
     ]
    },
    {
     "name": "stdout",
     "output_type": "stream",
     "text": [
      "Classification: recipe\n"
     ]
    },
    {
     "name": "stderr",
     "output_type": "stream",
     "text": [
      "  0%|          | 0/1 [00:00<?, ?it/s]INFO:httpx:HTTP Request: POST http://192.168.188.92:11434/api/chat \"HTTP/1.1 200 OK\"\n",
      "100%|██████████| 1/1 [00:01<00:00,  1.99s/it]"
     ]
    },
    {
     "name": "stdout",
     "output_type": "stream",
     "text": [
      "Classification: not recipe\n"
     ]
    },
    {
     "name": "stderr",
     "output_type": "stream",
     "text": [
      "\n"
     ]
    }
   ],
   "source": [
    "from postparse.analysis.classifiers.recipe_classifier import RecipeClassifier\n",
    "from postparse.data.database import SocialMediaDatabase\n",
    "\n",
    "# Initialize the recipe classifier\n",
    "classifier = RecipeClassifier()\n",
    "\n",
    "# Example recipe text for classification\n",
    "recipe_text = \"\"\"Here's my favorite pasta recipe! \n",
    "Ingredients:\n",
    "- 500g pasta\n",
    "- 2 cloves garlic\n",
    "- Olive oil\n",
    "Instructions:\n",
    "1. Boil pasta\n",
    "2. Sauté garlic\n",
    "3. Mix and enjoy!\"\"\"\n",
    "\n",
    "# Classify the recipe text\n",
    "result = classifier.predict(recipe_text)\n",
    "print(f\"Classification: {result}\")\n",
    "\n",
    "# Example non-recipe text for classification\n",
    "non_recipe = \"Beautiful sunset at the beach today! The waves were amazing.\"\n",
    "\n",
    "# Classify the non-recipe text\n",
    "result = classifier.predict(non_recipe)\n",
    "print(f\"Classification: {result}\")\n",
    "\n",
    "# Fetch Instagram posts for classification\n",
    "posts = db.get_instagram_posts(limit=5)\n",
    "for post in posts:\n",
    "    caption = post['caption']\n",
    "    if caption:  # Only process if caption exists\n",
    "        # Classify the caption\n",
    "        result = classifier.predict(caption)\n",
    "        print(f\"\\nCaption: {caption[:200]}...\")\n",
    "        print(f\"Classification: {result['label']} (confidence: {result['confidence']:.2f})\")"
   ]
  },
  {
   "cell_type": "code",
   "execution_count": null,
   "metadata": {},
   "outputs": [],
   "source": []
  }
 ],
 "metadata": {
  "kernelspec": {
   "display_name": ".venv",
   "language": "python",
   "name": "python3"
  },
  "language_info": {
   "codemirror_mode": {
    "name": "ipython",
    "version": 3
   },
   "file_extension": ".py",
   "mimetype": "text/x-python",
   "name": "python",
   "nbconvert_exporter": "python",
   "pygments_lexer": "ipython3",
   "version": "3.12.7"
  }
 },
 "nbformat": 4,
 "nbformat_minor": 4
}
